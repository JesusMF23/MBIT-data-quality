{
 "cells": [
  {
   "cell_type": "code",
   "execution_count": 5,
   "metadata": {},
   "outputs": [
    {
     "name": "stdout",
     "output_type": "stream",
     "text": [
      "          username       full_name  \\\n",
      "0         carrie86    Mark Pacheco   \n",
      "1        murphyann     Olivia Hill   \n",
      "2  williamskenneth  Cindy Anderson   \n",
      "3  martinezdeborah     Mark Hunter   \n",
      "4         pstewart    Sara Gregory   \n",
      "\n",
      "                                             content           created_at  \\\n",
      "0  Board knowledge agent scientist opportunity la...  2024-08-19 17:36:21   \n",
      "1  Sometimes first phone unit various draw board ...  2024-08-20 07:44:20   \n",
      "2  Him social way ability debate serve he conditi...  2024-07-21 16:24:56   \n",
      "3  Walk serve water listen determine wrong level ...  2024-06-06 21:20:35   \n",
      "4  Usually study soldier since young important wi...  2024-09-10 01:48:40   \n",
      "\n",
      "  retweets likes replies verified  \n",
      "0      929  1019     116    False  \n",
      "1      663  4966      86    False  \n",
      "2      506   835     257    False  \n",
      "3      762  2008     397    False  \n",
      "4      729  3821     203    False  \n"
     ]
    }
   ],
   "source": [
    "#Cargamos el dataframe\n",
    "\n",
    "import pandas as pd\n",
    "\n",
    "df = pd.read_csv('./data/unique_ai_tweets_with_issues.csv')\n",
    "\n",
    "print(df.head())\n",
    "\n",
    "\n",
    "# ¿Qué debería tener cada columna?\n",
    "#Tenemos las columnas: Username Full_Name Content Created_at Retweet Likes Replies Verificado\n",
    "\n",
    "#Username: String no nulo\n",
    "#Full_Name: String\n",
    "#Content: String, no nulo\n",
    "#Created_at: Datetime, no nulo, Limite superior la fecha actual. Limite infeior 2006.\n",
    "#Retweets like replies: int\n",
    "#Verificado: Boolean\n",
    "\n",
    "df_schema = pa.DataFrameSchema({\n",
    "    \"Survived\": pa.Column(pa.Int, pa.Check.in_range(0, 1)),\n",
    "    \"Pclass\": pa.Column(pa.Int, nullable=True),\n",
    "    \"Name\": pa.Column(pa.String, nullable=True),\n",
    "    \"Sex\": pa.Column(pa.String, pa.Check.isin([\"male\", \"female\"])),\n",
    "    \"Age\": pa.Column(pa.Float, pa.Check(lambda x: x > 20), nullable=False),\n",
    "    \"Siblings/Spouses Aboard\": pa.Column(pa.Int, nullable=True),\n",
    "    \"Parents/Children Aboard\": pa.Column(pa.Int, nullable=True),\n",
    "    \"Fare\": pa.Column(pa.Float, pa.Check(lambda x: x >= 0), nullable=True)\n",
    "})\n"
   ]
  }
 ],
 "metadata": {
  "kernelspec": {
   "display_name": "base",
   "language": "python",
   "name": "python3"
  },
  "language_info": {
   "codemirror_mode": {
    "name": "ipython",
    "version": 3
   },
   "file_extension": ".py",
   "mimetype": "text/x-python",
   "name": "python",
   "nbconvert_exporter": "python",
   "pygments_lexer": "ipython3",
   "version": "3.11.5"
  }
 },
 "nbformat": 4,
 "nbformat_minor": 2
}
